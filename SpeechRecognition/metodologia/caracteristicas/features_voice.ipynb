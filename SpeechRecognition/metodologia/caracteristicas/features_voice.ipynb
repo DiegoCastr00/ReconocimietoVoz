{
 "cells": [
  {
   "cell_type": "code",
   "execution_count": 1,
   "metadata": {},
   "outputs": [],
   "source": [
    "import pandas as pd\n",
    "import preprocesing\n",
    "import wordFeature"
   ]
  },
  {
   "cell_type": "code",
   "execution_count": 2,
   "metadata": {},
   "outputs": [],
   "source": [
    "def create_feature_dataset(audio_files, preprocessor, feature_extractor):\n",
    "    all_features = []\n",
    "    for idx, file_info in enumerate(audio_files):\n",
    "        # Preprocesar audio\n",
    "        audio = preprocessor.process_audio(file_info['ruta_archivo'])\n",
    "        \n",
    "        # Extraer características\n",
    "        features = feature_extractor.process_audio(audio)\n",
    "        \n",
    "        # Agregar etiquetas\n",
    "        features['palabra'] = file_info['palabra']\n",
    "        # features['persona'] = file_info['persona']\n",
    "        \n",
    "        all_features.append(features)\n",
    "        \n",
    "        if (idx + 1) % 100 == 0:\n",
    "            print(f\"Procesados {idx + 1} archivos de {len(audio_files)}\")\n",
    "            \n",
    "    return pd.DataFrame(all_features)"
   ]
  },
  {
   "cell_type": "code",
   "execution_count": 3,
   "metadata": {},
   "outputs": [
    {
     "name": "stdout",
     "output_type": "stream",
     "text": [
      "Procesados 100 archivos de 2000\n",
      "Procesados 200 archivos de 2000\n",
      "Procesados 300 archivos de 2000\n",
      "Procesados 400 archivos de 2000\n",
      "Procesados 500 archivos de 2000\n",
      "Procesados 600 archivos de 2000\n",
      "Procesados 700 archivos de 2000\n",
      "Procesados 800 archivos de 2000\n",
      "Procesados 900 archivos de 2000\n",
      "Procesados 1000 archivos de 2000\n",
      "Procesados 1100 archivos de 2000\n",
      "Procesados 1200 archivos de 2000\n",
      "Procesados 1300 archivos de 2000\n",
      "Procesados 1400 archivos de 2000\n",
      "Procesados 1500 archivos de 2000\n",
      "Procesados 1600 archivos de 2000\n",
      "Procesados 1700 archivos de 2000\n",
      "Procesados 1800 archivos de 2000\n",
      "Procesados 1900 archivos de 2000\n",
      "Procesados 2000 archivos de 2000\n"
     ]
    }
   ],
   "source": [
    "# Crear instancias\n",
    "preprocessor = preprocesing.AudioPreprocessor()\n",
    "feature_extractor = wordFeature.WordFeatureExtractor()\n",
    "\n",
    "df = pd.read_csv('dataset.csv')\n",
    "\n",
    "features_df = create_feature_dataset(df.to_dict('records'), preprocessor, feature_extractor)\n",
    "\n",
    "features_df.to_csv('voice_features.csv', index=False)"
   ]
  }
 ],
 "metadata": {
  "kernelspec": {
   "display_name": "Python 3",
   "language": "python",
   "name": "python3"
  },
  "language_info": {
   "codemirror_mode": {
    "name": "ipython",
    "version": 3
   },
   "file_extension": ".py",
   "mimetype": "text/x-python",
   "name": "python",
   "nbconvert_exporter": "python",
   "pygments_lexer": "ipython3",
   "version": "3.10.12"
  }
 },
 "nbformat": 4,
 "nbformat_minor": 2
}
