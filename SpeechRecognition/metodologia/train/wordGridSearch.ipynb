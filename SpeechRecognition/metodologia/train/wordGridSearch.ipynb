{
 "cells": [
  {
   "cell_type": "code",
   "execution_count": 8,
   "metadata": {},
   "outputs": [],
   "source": [
    "import numpy as np\n",
    "import pandas as pd\n",
    "from sklearn.model_selection import train_test_split, GridSearchCV\n",
    "from sklearn.preprocessing import StandardScaler\n",
    "from sklearn.ensemble import RandomForestClassifier, GradientBoostingClassifier\n",
    "from sklearn.svm import SVC\n",
    "from sklearn.model_selection import StratifiedKFold"
   ]
  },
  {
   "cell_type": "code",
   "execution_count": 9,
   "metadata": {},
   "outputs": [],
   "source": [
    "base_classifiers = {\n",
    "            'rf': RandomForestClassifier(random_state=42, n_jobs=-1),\n",
    "            'svm': SVC(probability=True, random_state=42),\n",
    "            # 'xgb': xgb.XGBClassifier(random_state=42, n_jobs=-1),\n",
    "            # 'gb': GradientBoostingClassifier(random_state=42)\n",
    "        }\n",
    "\n",
    "param_grid = {    \n",
    "    'rf': {\n",
    "        'n_estimators': [100, 200, 300],\n",
    "        'max_depth': [10, 20, 30],\n",
    "        'min_samples_split': [2, 5, 10],\n",
    "        'min_samples_leaf': [1, 2, 4],\n",
    "        'bootstrap': [True, False]\n",
    "    },    \n",
    "    'svm': {\n",
    "        'C': [0.1, 1, 10, 100],\n",
    "        'gamma': [1, 0.1, 0.01, 0.001, 'scale', 'auto'],\n",
    "        'kernel': ['rbf', 'poly', 'sigmoid']\n",
    "    },\n",
    "    # 'gb' : {\n",
    "    #     'n_estimators': [100, 200, 300],\n",
    "    #     'learning_rate': [0.1, 0.05, 0.02, 0.01],\n",
    "    #     'max_depth': [4, 6, 8],\n",
    "    #     'min_samples_leaf': [20, 50,100],\n",
    "    #     'max_features': [1.0, 0.3, 0.1] \n",
    "    # }\n",
    "}\n",
    "\n",
    "best_models = {}\n",
    "def train_base_models(X_train, y_train):\n",
    "    \"\"\"Entrena y optimiza los modelos base usando GridSearchCV.\"\"\"\n",
    "    print(\"Entrenando modelos base...\")\n",
    "    \n",
    "    for name, model in base_classifiers.items():\n",
    "        print(f\"\\nOptimizando {name}...\")\n",
    "        cv = StratifiedKFold(n_splits=5, shuffle=True, random_state=42)\n",
    "        \n",
    "        grid_search = GridSearchCV(\n",
    "            estimator=model,\n",
    "            param_grid= param_grid[name],\n",
    "            cv=cv,\n",
    "            n_jobs=-1,\n",
    "            scoring='accuracy',\n",
    "            verbose=1\n",
    "        )\n",
    "        \n",
    "        grid_search.fit(X_train, y_train)\n",
    "        best_models[name] = grid_search.best_estimator_\n",
    "        \n",
    "        print(f\"Mejores parámetros para {name}: {grid_search.best_params_}\")\n",
    "        print(f\"Mejor puntuación para {name}: {grid_search.best_score_:.4f}\")\n",
    "    \n",
    "    return best_models"
   ]
  },
  {
   "cell_type": "code",
   "execution_count": 10,
   "metadata": {},
   "outputs": [
    {
     "name": "stdout",
     "output_type": "stream",
     "text": [
      "Entrenando modelos base...\n",
      "\n",
      "Optimizando rf...\n",
      "Fitting 5 folds for each of 162 candidates, totalling 810 fits\n",
      "Mejores parámetros para rf: {'bootstrap': False, 'max_depth': 20, 'min_samples_leaf': 1, 'min_samples_split': 5, 'n_estimators': 300}\n",
      "Mejor puntuación para rf: 0.9575\n",
      "\n",
      "Optimizando svm...\n",
      "Fitting 5 folds for each of 72 candidates, totalling 360 fits\n",
      "Mejores parámetros para svm: {'C': 10, 'gamma': 'scale', 'kernel': 'rbf'}\n",
      "Mejor puntuación para svm: 0.9706\n"
     ]
    }
   ],
   "source": [
    "def main():\n",
    "    data = pd.read_csv('csv/word_features.csv')\n",
    "    X = data.drop('palabra', axis=1)\n",
    "    y = data['palabra']\n",
    "    \n",
    "        # Dividir los datos\n",
    "    X_train, X_test, y_train, y_test = train_test_split(\n",
    "        X, y, test_size=0.2, random_state=42, stratify=y\n",
    "    )\n",
    "    \n",
    "    scaler = StandardScaler()\n",
    "    \n",
    "    # Escalar los datos\n",
    "    X_train_scaled = scaler.fit_transform(X_train)\n",
    "    \n",
    "    # Crear y entrenar el modelo\n",
    "    best_models = train_base_models(X_train_scaled, y_train)\n",
    "    \n",
    "if __name__ == \"__main__\":\n",
    "    main()"
   ]
  }
 ],
 "metadata": {
  "kernelspec": {
   "display_name": "Python 3",
   "language": "python",
   "name": "python3"
  },
  "language_info": {
   "codemirror_mode": {
    "name": "ipython",
    "version": 3
   },
   "file_extension": ".py",
   "mimetype": "text/x-python",
   "name": "python",
   "nbconvert_exporter": "python",
   "pygments_lexer": "ipython3",
   "version": "3.12.4"
  }
 },
 "nbformat": 4,
 "nbformat_minor": 2
}
