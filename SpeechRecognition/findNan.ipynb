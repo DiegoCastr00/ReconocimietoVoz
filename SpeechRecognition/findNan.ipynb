{
 "cells": [
  {
   "cell_type": "code",
   "execution_count": 1,
   "metadata": {},
   "outputs": [
    {
     "name": "stdout",
     "output_type": "stream",
     "text": [
      "\n",
      "¿Existen NaN en el dataset? False\n",
      "\n",
      "Columnas con NaN: []\n",
      "\n",
      "Número de NaN por columna:\n",
      "f0_mean                  0\n",
      "f0_std                   0\n",
      "f0_min                   0\n",
      "f0_max                   0\n",
      "f0_range                 0\n",
      "                        ..\n",
      "spectral_contrast_std    0\n",
      "jitter                   0\n",
      "shimmer                  0\n",
      "hnr                      0\n",
      "persona                  0\n",
      "Length: 307, dtype: int64\n",
      "\n",
      "Filas con NaN:\n",
      "Empty DataFrame\n",
      "Columns: [f0_mean, f0_std, f0_min, f0_max, f0_range, f0_skew, f0_kurtosis, voiced_ratio, voiced_fraction, energy_mean, energy_std, energy_range, energy_skew, energy_kurtosis, zcr_mean, zcr_std, zcr_skew, mfcc_0_mean, mfcc_0_std, mfcc_0_skew, mfcc_0_delta_mean, mfcc_0_delta_std, mfcc_0_delta2_mean, mfcc_0_delta2_std, mfcc_1_mean, mfcc_1_std, mfcc_1_skew, mfcc_1_delta_mean, mfcc_1_delta_std, mfcc_1_delta2_mean, mfcc_1_delta2_std, mfcc_2_mean, mfcc_2_std, mfcc_2_skew, mfcc_2_delta_mean, mfcc_2_delta_std, mfcc_2_delta2_mean, mfcc_2_delta2_std, mfcc_3_mean, mfcc_3_std, mfcc_3_skew, mfcc_3_delta_mean, mfcc_3_delta_std, mfcc_3_delta2_mean, mfcc_3_delta2_std, mfcc_4_mean, mfcc_4_std, mfcc_4_skew, mfcc_4_delta_mean, mfcc_4_delta_std, mfcc_4_delta2_mean, mfcc_4_delta2_std, mfcc_5_mean, mfcc_5_std, mfcc_5_skew, mfcc_5_delta_mean, mfcc_5_delta_std, mfcc_5_delta2_mean, mfcc_5_delta2_std, mfcc_6_mean, mfcc_6_std, mfcc_6_skew, mfcc_6_delta_mean, mfcc_6_delta_std, mfcc_6_delta2_mean, mfcc_6_delta2_std, mfcc_7_mean, mfcc_7_std, mfcc_7_skew, mfcc_7_delta_mean, mfcc_7_delta_std, mfcc_7_delta2_mean, mfcc_7_delta2_std, mfcc_8_mean, mfcc_8_std, mfcc_8_skew, mfcc_8_delta_mean, mfcc_8_delta_std, mfcc_8_delta2_mean, mfcc_8_delta2_std, mfcc_9_mean, mfcc_9_std, mfcc_9_skew, mfcc_9_delta_mean, mfcc_9_delta_std, mfcc_9_delta2_mean, mfcc_9_delta2_std, mfcc_10_mean, mfcc_10_std, mfcc_10_skew, mfcc_10_delta_mean, mfcc_10_delta_std, mfcc_10_delta2_mean, mfcc_10_delta2_std, mfcc_11_mean, mfcc_11_std, mfcc_11_skew, mfcc_11_delta_mean, mfcc_11_delta_std, mfcc_11_delta2_mean, ...]\n",
      "Index: []\n",
      "\n",
      "[0 rows x 307 columns]\n"
     ]
    }
   ],
   "source": [
    "import pandas as pd\n",
    "\n",
    "# Carga tu archivo CSV\n",
    "file_path = \"speaker_features.csv\"  # Reemplaza con la ruta de tu archivo\n",
    "data = pd.read_csv(file_path)\n",
    "\n",
    "# Verificar si hay valores NaN en el DataFrame\n",
    "print(\"\\n¿Existen NaN en el dataset?\", data.isnull().values.any())\n",
    "\n",
    "# Mostrar columnas que contienen NaN\n",
    "nan_columns = data.columns[data.isnull().any()].tolist()\n",
    "print(\"\\nColumnas con NaN:\", nan_columns)\n",
    "\n",
    "# Mostrar el número de valores NaN por columna\n",
    "print(\"\\nNúmero de NaN por columna:\")\n",
    "print(data.isnull().sum())\n",
    "\n",
    "# Mostrar las filas donde hay NaN\n",
    "print(\"\\nFilas con NaN:\")\n",
    "print(data[data.isnull().any(axis=1)])\n"
   ]
  }
 ],
 "metadata": {
  "kernelspec": {
   "display_name": "Python 3",
   "language": "python",
   "name": "python3"
  },
  "language_info": {
   "codemirror_mode": {
    "name": "ipython",
    "version": 3
   },
   "file_extension": ".py",
   "mimetype": "text/x-python",
   "name": "python",
   "nbconvert_exporter": "python",
   "pygments_lexer": "ipython3",
   "version": "3.12.4"
  }
 },
 "nbformat": 4,
 "nbformat_minor": 2
}
