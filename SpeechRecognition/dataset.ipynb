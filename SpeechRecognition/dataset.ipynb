{
 "cells": [
  {
   "cell_type": "code",
   "execution_count": 1,
   "metadata": {},
   "outputs": [],
   "source": [
    "import os\n",
    "import pandas as pd\n"
   ]
  },
  {
   "cell_type": "code",
   "execution_count": 2,
   "metadata": {},
   "outputs": [],
   "source": [
    "def create_audio_dataset_csv(base_path='audios', output_file='dataset.csv'):\n",
    "    \"\"\"\n",
    "    Crea un CSV con información sobre los archivos de audio.\n",
    "    \n",
    "    Parameters:\n",
    "    base_path (str): Ruta a la carpeta principal que contiene las subcarpetas de palabras\n",
    "    output_file (str): Nombre del archivo CSV de salida\n",
    "    \n",
    "    Returns:\n",
    "    pandas.DataFrame: DataFrame con la información procesada\n",
    "    \"\"\"\n",
    "    # Lista para almacenar la información de cada archivo\n",
    "    data = []\n",
    "    \n",
    "    # Recorrer todas las subcarpetas (palabras)\n",
    "    for palabra in os.listdir(base_path):\n",
    "        palabra_path = os.path.join(base_path, palabra)\n",
    "        \n",
    "        # Verificar que sea un directorio\n",
    "        if os.path.isdir(palabra_path):\n",
    "            # Recorrer todos los archivos de audio en la subcarpeta\n",
    "            for audio_file in os.listdir(palabra_path):\n",
    "                if audio_file.endswith('.wav'):\n",
    "                    # Construir la ruta completa del archivo\n",
    "                    file_path = os.path.join(palabra_path, audio_file)\n",
    "                    \n",
    "                    # Extraer el nombre de la persona (primera parte del nombre del archivo)\n",
    "                    persona = audio_file.split('_')[0]\n",
    "                    \n",
    "                    # Crear registro para este archivo\n",
    "                    registro = {\n",
    "                        'ruta_archivo': file_path,\n",
    "                        'palabra': palabra,\n",
    "                        'persona': persona,\n",
    "                        'nombre_archivo': audio_file\n",
    "                    }\n",
    "                    \n",
    "                    data.append(registro)\n",
    "    \n",
    "    # Crear DataFrame\n",
    "    df = pd.DataFrame(data)\n",
    "    \n",
    "    # Guardar a CSV\n",
    "    df.to_csv(output_file, index=False)\n",
    "    \n",
    "    print(f\"Se ha creado el archivo {output_file} con {len(df)} registros\")\n",
    "    return df"
   ]
  },
  {
   "cell_type": "code",
   "execution_count": 3,
   "metadata": {},
   "outputs": [
    {
     "name": "stdout",
     "output_type": "stream",
     "text": [
      "Se ha creado el archivo dataset.csv con 2000 registros\n",
      "\n",
      "Primeras 5 filas del dataset:\n"
     ]
    },
    {
     "data": {
      "text/html": [
       "<div>\n",
       "<style scoped>\n",
       "    .dataframe tbody tr th:only-of-type {\n",
       "        vertical-align: middle;\n",
       "    }\n",
       "\n",
       "    .dataframe tbody tr th {\n",
       "        vertical-align: top;\n",
       "    }\n",
       "\n",
       "    .dataframe thead th {\n",
       "        text-align: right;\n",
       "    }\n",
       "</style>\n",
       "<table border=\"1\" class=\"dataframe\">\n",
       "  <thead>\n",
       "    <tr style=\"text-align: right;\">\n",
       "      <th></th>\n",
       "      <th>ruta_archivo</th>\n",
       "      <th>palabra</th>\n",
       "      <th>persona</th>\n",
       "      <th>nombre_archivo</th>\n",
       "    </tr>\n",
       "  </thead>\n",
       "  <tbody>\n",
       "    <tr>\n",
       "      <th>0</th>\n",
       "      <td>audios/casa/Vale_casa_014.wav</td>\n",
       "      <td>casa</td>\n",
       "      <td>Vale</td>\n",
       "      <td>Vale_casa_014.wav</td>\n",
       "    </tr>\n",
       "    <tr>\n",
       "      <th>1</th>\n",
       "      <td>audios/casa/Vale_casa_005.wav</td>\n",
       "      <td>casa</td>\n",
       "      <td>Vale</td>\n",
       "      <td>Vale_casa_005.wav</td>\n",
       "    </tr>\n",
       "    <tr>\n",
       "      <th>2</th>\n",
       "      <td>audios/casa/Diego_casa_038.wav</td>\n",
       "      <td>casa</td>\n",
       "      <td>Diego</td>\n",
       "      <td>Diego_casa_038.wav</td>\n",
       "    </tr>\n",
       "    <tr>\n",
       "      <th>3</th>\n",
       "      <td>audios/casa/Mike_casa_033.wav</td>\n",
       "      <td>casa</td>\n",
       "      <td>Mike</td>\n",
       "      <td>Mike_casa_033.wav</td>\n",
       "    </tr>\n",
       "    <tr>\n",
       "      <th>4</th>\n",
       "      <td>audios/casa/Vale_casa_036.wav</td>\n",
       "      <td>casa</td>\n",
       "      <td>Vale</td>\n",
       "      <td>Vale_casa_036.wav</td>\n",
       "    </tr>\n",
       "    <tr>\n",
       "      <th>...</th>\n",
       "      <td>...</td>\n",
       "      <td>...</td>\n",
       "      <td>...</td>\n",
       "      <td>...</td>\n",
       "    </tr>\n",
       "    <tr>\n",
       "      <th>1995</th>\n",
       "      <td>audios/ocho/Vale_ocho_048.wav</td>\n",
       "      <td>ocho</td>\n",
       "      <td>Vale</td>\n",
       "      <td>Vale_ocho_048.wav</td>\n",
       "    </tr>\n",
       "    <tr>\n",
       "      <th>1996</th>\n",
       "      <td>audios/ocho/Vale_ocho_026.wav</td>\n",
       "      <td>ocho</td>\n",
       "      <td>Vale</td>\n",
       "      <td>Vale_ocho_026.wav</td>\n",
       "    </tr>\n",
       "    <tr>\n",
       "      <th>1997</th>\n",
       "      <td>audios/ocho/Mike_ocho_036.wav</td>\n",
       "      <td>ocho</td>\n",
       "      <td>Mike</td>\n",
       "      <td>Mike_ocho_036.wav</td>\n",
       "    </tr>\n",
       "    <tr>\n",
       "      <th>1998</th>\n",
       "      <td>audios/ocho/Vale_ocho_047.wav</td>\n",
       "      <td>ocho</td>\n",
       "      <td>Vale</td>\n",
       "      <td>Vale_ocho_047.wav</td>\n",
       "    </tr>\n",
       "    <tr>\n",
       "      <th>1999</th>\n",
       "      <td>audios/ocho/Diego_ocho_006.wav</td>\n",
       "      <td>ocho</td>\n",
       "      <td>Diego</td>\n",
       "      <td>Diego_ocho_006.wav</td>\n",
       "    </tr>\n",
       "  </tbody>\n",
       "</table>\n",
       "<p>2000 rows × 4 columns</p>\n",
       "</div>"
      ],
      "text/plain": [
       "                        ruta_archivo palabra persona      nombre_archivo\n",
       "0      audios/casa/Vale_casa_014.wav    casa    Vale   Vale_casa_014.wav\n",
       "1      audios/casa/Vale_casa_005.wav    casa    Vale   Vale_casa_005.wav\n",
       "2     audios/casa/Diego_casa_038.wav    casa   Diego  Diego_casa_038.wav\n",
       "3      audios/casa/Mike_casa_033.wav    casa    Mike   Mike_casa_033.wav\n",
       "4      audios/casa/Vale_casa_036.wav    casa    Vale   Vale_casa_036.wav\n",
       "...                              ...     ...     ...                 ...\n",
       "1995   audios/ocho/Vale_ocho_048.wav    ocho    Vale   Vale_ocho_048.wav\n",
       "1996   audios/ocho/Vale_ocho_026.wav    ocho    Vale   Vale_ocho_026.wav\n",
       "1997   audios/ocho/Mike_ocho_036.wav    ocho    Mike   Mike_ocho_036.wav\n",
       "1998   audios/ocho/Vale_ocho_047.wav    ocho    Vale   Vale_ocho_047.wav\n",
       "1999  audios/ocho/Diego_ocho_006.wav    ocho   Diego  Diego_ocho_006.wav\n",
       "\n",
       "[2000 rows x 4 columns]"
      ]
     },
     "execution_count": 3,
     "metadata": {},
     "output_type": "execute_result"
    }
   ],
   "source": [
    "df = create_audio_dataset_csv()\n",
    "\n",
    "# Mostrar las primeras filas del DataFrame\n",
    "print(\"\\nPrimeras 5 filas del dataset:\")\n",
    "df"
   ]
  },
  {
   "cell_type": "code",
   "execution_count": 4,
   "metadata": {},
   "outputs": [
    {
     "name": "stdout",
     "output_type": "stream",
     "text": [
      "\n",
      "Número de archivos por palabra:\n"
     ]
    },
    {
     "data": {
      "text/plain": [
       "palabra\n",
       "casa    200\n",
       "alto    200\n",
       "no      200\n",
       "frio    200\n",
       "baja    200\n",
       "luz     200\n",
       "cero    200\n",
       "uno     200\n",
       "si      200\n",
       "ocho    200\n",
       "Name: count, dtype: int64"
      ]
     },
     "execution_count": 4,
     "metadata": {},
     "output_type": "execute_result"
    }
   ],
   "source": [
    "print(\"\\nNúmero de archivos por palabra:\")\n",
    "df['palabra'].value_counts()"
   ]
  },
  {
   "cell_type": "code",
   "execution_count": 5,
   "metadata": {},
   "outputs": [
    {
     "name": "stdout",
     "output_type": "stream",
     "text": [
      "\n",
      "Número de personas diferentes:\n"
     ]
    },
    {
     "data": {
      "text/plain": [
       "4"
      ]
     },
     "execution_count": 5,
     "metadata": {},
     "output_type": "execute_result"
    }
   ],
   "source": [
    "print(\"\\nNúmero de personas diferentes:\")\n",
    "len(df['persona'].unique())"
   ]
  }
 ],
 "metadata": {
  "kernelspec": {
   "display_name": "Python 3",
   "language": "python",
   "name": "python3"
  },
  "language_info": {
   "codemirror_mode": {
    "name": "ipython",
    "version": 3
   },
   "file_extension": ".py",
   "mimetype": "text/x-python",
   "name": "python",
   "nbconvert_exporter": "python",
   "pygments_lexer": "ipython3",
   "version": "3.10.12"
  }
 },
 "nbformat": 4,
 "nbformat_minor": 2
}
